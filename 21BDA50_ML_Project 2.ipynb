{
 "cells": [
  {
   "cell_type": "markdown",
   "id": "ba43d3bd",
   "metadata": {},
   "source": [
    "# **MACHINE LEARNING 1 PROJECT**"
   ]
  },
  {
   "cell_type": "markdown",
   "id": "faef55e4",
   "metadata": {},
   "source": [
    "## **ANAGHA ASHOK**\n",
    "\n",
    "## **21BDA50**\n",
    "\n"
   ]
  },
  {
   "cell_type": "code",
   "execution_count": 1,
   "id": "91c6cb85",
   "metadata": {},
   "outputs": [],
   "source": [
    "#We can use the magic function %matplotlib inline to enable the inline plotting.\n",
    "%matplotlib inline\n",
    "\n",
    "import matplotlib.pyplot as plt\n",
    "import numpy as np\n",
    "import os\n",
    "import seaborn as sns\n",
    "import pandas as pd\n",
    "\n",
    "#To load the image, we simply import the image module from the pillow and call the Image. \n",
    "from PIL import Image\n",
    "\n",
    "#tqdm is a Python library that allows you to output a smart progress bar by wrapping around any iterable.\n",
    "#A tqdm progress bar not only shows you how much time has elapsed, but also shows the estimated time remaining for the iterable.\n",
    "from tqdm import tqdm"
   ]
  },
  {
   "cell_type": "code",
   "execution_count": 2,
   "id": "e89359ec",
   "metadata": {},
   "outputs": [],
   "source": [
    "train_features = pd.read_csv(\"train_features.csv\", index_col=\"id\")\n",
    "test_features = pd.read_csv(\"test_features.csv\", index_col=\"id\")\n",
    "train_labels = pd.read_csv(\"train_labels.csv\",index_col=\"id\")"
   ]
  },
  {
   "cell_type": "code",
   "execution_count": 3,
   "id": "7c2fd537",
   "metadata": {},
   "outputs": [
    {
     "data": {
      "text/plain": [
       "['antelope_duiker',\n",
       " 'bird',\n",
       " 'blank',\n",
       " 'civet_genet',\n",
       " 'hog',\n",
       " 'leopard',\n",
       " 'monkey_prosimian',\n",
       " 'rodent']"
      ]
     },
     "execution_count": 3,
     "metadata": {},
     "output_type": "execute_result"
    }
   ],
   "source": [
    "species_labels = sorted(train_labels.columns.unique())\n",
    "species_labels"
   ]
  },
  {
   "cell_type": "markdown",
   "id": "11ea072d",
   "metadata": {},
   "source": [
    "<font size=\"5\">**3.SPITTING INTO TRAIN AND EVALUATION SETS**</font>"
   ]
  },
  {
   "cell_type": "markdown",
   "id": "a78f45f2",
   "metadata": {},
   "source": [
    "**First, we'll need to split the images into train and evaluation sets.**"
   ]
  },
  {
   "cell_type": "code",
   "execution_count": 4,
   "id": "6a1bb1c9",
   "metadata": {},
   "outputs": [],
   "source": [
    "from sklearn.model_selection import train_test_split\n",
    "\n",
    "frac = 0.5\n",
    "\n",
    "y = train_labels.sample(frac=frac, random_state=1)\n",
    "x = train_features.loc[y.index].filepath.to_frame()\n",
    "\n",
    "x_train, x_eval, y_train, y_eval = train_test_split(\n",
    "    x, y, stratify=y, test_size=0.25\n",
    ")"
   ]
  },
  {
   "cell_type": "code",
   "execution_count": 5,
   "id": "4dfab8da",
   "metadata": {},
   "outputs": [
    {
     "data": {
      "text/html": [
       "<div>\n",
       "<style scoped>\n",
       "    .dataframe tbody tr th:only-of-type {\n",
       "        vertical-align: middle;\n",
       "    }\n",
       "\n",
       "    .dataframe tbody tr th {\n",
       "        vertical-align: top;\n",
       "    }\n",
       "\n",
       "    .dataframe thead th {\n",
       "        text-align: right;\n",
       "    }\n",
       "</style>\n",
       "<table border=\"1\" class=\"dataframe\">\n",
       "  <thead>\n",
       "    <tr style=\"text-align: right;\">\n",
       "      <th></th>\n",
       "      <th>filepath</th>\n",
       "    </tr>\n",
       "    <tr>\n",
       "      <th>id</th>\n",
       "      <th></th>\n",
       "    </tr>\n",
       "  </thead>\n",
       "  <tbody>\n",
       "    <tr>\n",
       "      <th>ZJ008117</th>\n",
       "      <td>train_features/ZJ008117.jpg</td>\n",
       "    </tr>\n",
       "    <tr>\n",
       "      <th>ZJ016163</th>\n",
       "      <td>train_features/ZJ016163.jpg</td>\n",
       "    </tr>\n",
       "    <tr>\n",
       "      <th>ZJ014803</th>\n",
       "      <td>train_features/ZJ014803.jpg</td>\n",
       "    </tr>\n",
       "    <tr>\n",
       "      <th>ZJ012302</th>\n",
       "      <td>train_features/ZJ012302.jpg</td>\n",
       "    </tr>\n",
       "    <tr>\n",
       "      <th>ZJ008816</th>\n",
       "      <td>train_features/ZJ008816.jpg</td>\n",
       "    </tr>\n",
       "  </tbody>\n",
       "</table>\n",
       "</div>"
      ],
      "text/plain": [
       "                             filepath\n",
       "id                                   \n",
       "ZJ008117  train_features/ZJ008117.jpg\n",
       "ZJ016163  train_features/ZJ016163.jpg\n",
       "ZJ014803  train_features/ZJ014803.jpg\n",
       "ZJ012302  train_features/ZJ012302.jpg\n",
       "ZJ008816  train_features/ZJ008816.jpg"
      ]
     },
     "execution_count": 5,
     "metadata": {},
     "output_type": "execute_result"
    }
   ],
   "source": [
    "x_train.head()"
   ]
  },
  {
   "cell_type": "code",
   "execution_count": 6,
   "id": "f7b23bda",
   "metadata": {},
   "outputs": [
    {
     "data": {
      "text/html": [
       "<div>\n",
       "<style scoped>\n",
       "    .dataframe tbody tr th:only-of-type {\n",
       "        vertical-align: middle;\n",
       "    }\n",
       "\n",
       "    .dataframe tbody tr th {\n",
       "        vertical-align: top;\n",
       "    }\n",
       "\n",
       "    .dataframe thead th {\n",
       "        text-align: right;\n",
       "    }\n",
       "</style>\n",
       "<table border=\"1\" class=\"dataframe\">\n",
       "  <thead>\n",
       "    <tr style=\"text-align: right;\">\n",
       "      <th></th>\n",
       "      <th>antelope_duiker</th>\n",
       "      <th>bird</th>\n",
       "      <th>blank</th>\n",
       "      <th>civet_genet</th>\n",
       "      <th>hog</th>\n",
       "      <th>leopard</th>\n",
       "      <th>monkey_prosimian</th>\n",
       "      <th>rodent</th>\n",
       "    </tr>\n",
       "    <tr>\n",
       "      <th>id</th>\n",
       "      <th></th>\n",
       "      <th></th>\n",
       "      <th></th>\n",
       "      <th></th>\n",
       "      <th></th>\n",
       "      <th></th>\n",
       "      <th></th>\n",
       "      <th></th>\n",
       "    </tr>\n",
       "  </thead>\n",
       "  <tbody>\n",
       "    <tr>\n",
       "      <th>ZJ008117</th>\n",
       "      <td>0.0</td>\n",
       "      <td>0.0</td>\n",
       "      <td>0.0</td>\n",
       "      <td>1.0</td>\n",
       "      <td>0.0</td>\n",
       "      <td>0.0</td>\n",
       "      <td>0.0</td>\n",
       "      <td>0.0</td>\n",
       "    </tr>\n",
       "    <tr>\n",
       "      <th>ZJ016163</th>\n",
       "      <td>0.0</td>\n",
       "      <td>0.0</td>\n",
       "      <td>0.0</td>\n",
       "      <td>0.0</td>\n",
       "      <td>0.0</td>\n",
       "      <td>0.0</td>\n",
       "      <td>0.0</td>\n",
       "      <td>1.0</td>\n",
       "    </tr>\n",
       "    <tr>\n",
       "      <th>ZJ014803</th>\n",
       "      <td>0.0</td>\n",
       "      <td>0.0</td>\n",
       "      <td>0.0</td>\n",
       "      <td>1.0</td>\n",
       "      <td>0.0</td>\n",
       "      <td>0.0</td>\n",
       "      <td>0.0</td>\n",
       "      <td>0.0</td>\n",
       "    </tr>\n",
       "    <tr>\n",
       "      <th>ZJ012302</th>\n",
       "      <td>0.0</td>\n",
       "      <td>0.0</td>\n",
       "      <td>0.0</td>\n",
       "      <td>0.0</td>\n",
       "      <td>0.0</td>\n",
       "      <td>0.0</td>\n",
       "      <td>0.0</td>\n",
       "      <td>1.0</td>\n",
       "    </tr>\n",
       "    <tr>\n",
       "      <th>ZJ008816</th>\n",
       "      <td>0.0</td>\n",
       "      <td>0.0</td>\n",
       "      <td>0.0</td>\n",
       "      <td>0.0</td>\n",
       "      <td>1.0</td>\n",
       "      <td>0.0</td>\n",
       "      <td>0.0</td>\n",
       "      <td>0.0</td>\n",
       "    </tr>\n",
       "  </tbody>\n",
       "</table>\n",
       "</div>"
      ],
      "text/plain": [
       "          antelope_duiker  bird  blank  civet_genet  hog  leopard  \\\n",
       "id                                                                  \n",
       "ZJ008117              0.0   0.0    0.0          1.0  0.0      0.0   \n",
       "ZJ016163              0.0   0.0    0.0          0.0  0.0      0.0   \n",
       "ZJ014803              0.0   0.0    0.0          1.0  0.0      0.0   \n",
       "ZJ012302              0.0   0.0    0.0          0.0  0.0      0.0   \n",
       "ZJ008816              0.0   0.0    0.0          0.0  1.0      0.0   \n",
       "\n",
       "          monkey_prosimian  rodent  \n",
       "id                                  \n",
       "ZJ008117               0.0     0.0  \n",
       "ZJ016163               0.0     1.0  \n",
       "ZJ014803               0.0     0.0  \n",
       "ZJ012302               0.0     1.0  \n",
       "ZJ008816               0.0     0.0  "
      ]
     },
     "execution_count": 6,
     "metadata": {},
     "output_type": "execute_result"
    }
   ],
   "source": [
    "y_train.head()"
   ]
  },
  {
   "cell_type": "code",
   "execution_count": 7,
   "id": "d176e9ee",
   "metadata": {},
   "outputs": [
    {
     "data": {
      "text/plain": [
       "((6183, 1), (6183, 8), (2061, 1), (2061, 8))"
      ]
     },
     "execution_count": 7,
     "metadata": {},
     "output_type": "execute_result"
    }
   ],
   "source": [
    "x_train.shape, y_train.shape, x_eval.shape, y_eval.shape"
   ]
  },
  {
   "cell_type": "code",
   "execution_count": 8,
   "id": "91b7f43f",
   "metadata": {},
   "outputs": [
    {
     "name": "stdout",
     "output_type": "stream",
     "text": [
      "Species percentages by split\n"
     ]
    },
    {
     "data": {
      "text/html": [
       "<div>\n",
       "<style scoped>\n",
       "    .dataframe tbody tr th:only-of-type {\n",
       "        vertical-align: middle;\n",
       "    }\n",
       "\n",
       "    .dataframe tbody tr th {\n",
       "        vertical-align: top;\n",
       "    }\n",
       "\n",
       "    .dataframe thead th {\n",
       "        text-align: right;\n",
       "    }\n",
       "</style>\n",
       "<table border=\"1\" class=\"dataframe\">\n",
       "  <thead>\n",
       "    <tr style=\"text-align: right;\">\n",
       "      <th></th>\n",
       "      <th>train</th>\n",
       "      <th>eval</th>\n",
       "    </tr>\n",
       "  </thead>\n",
       "  <tbody>\n",
       "    <tr>\n",
       "      <th>monkey_prosimian</th>\n",
       "      <td>15</td>\n",
       "      <td>15</td>\n",
       "    </tr>\n",
       "    <tr>\n",
       "      <th>antelope_duiker</th>\n",
       "      <td>14</td>\n",
       "      <td>14</td>\n",
       "    </tr>\n",
       "    <tr>\n",
       "      <th>civet_genet</th>\n",
       "      <td>14</td>\n",
       "      <td>14</td>\n",
       "    </tr>\n",
       "    <tr>\n",
       "      <th>blank</th>\n",
       "      <td>13</td>\n",
       "      <td>13</td>\n",
       "    </tr>\n",
       "    <tr>\n",
       "      <th>leopard</th>\n",
       "      <td>13</td>\n",
       "      <td>13</td>\n",
       "    </tr>\n",
       "    <tr>\n",
       "      <th>rodent</th>\n",
       "      <td>11</td>\n",
       "      <td>11</td>\n",
       "    </tr>\n",
       "    <tr>\n",
       "      <th>bird</th>\n",
       "      <td>9</td>\n",
       "      <td>9</td>\n",
       "    </tr>\n",
       "    <tr>\n",
       "      <th>hog</th>\n",
       "      <td>5</td>\n",
       "      <td>5</td>\n",
       "    </tr>\n",
       "  </tbody>\n",
       "</table>\n",
       "</div>"
      ],
      "text/plain": [
       "                  train  eval\n",
       "monkey_prosimian     15    15\n",
       "antelope_duiker      14    14\n",
       "civet_genet          14    14\n",
       "blank                13    13\n",
       "leopard              13    13\n",
       "rodent               11    11\n",
       "bird                  9     9\n",
       "hog                   5     5"
      ]
     },
     "execution_count": 8,
     "metadata": {},
     "output_type": "execute_result"
    }
   ],
   "source": [
    "split_pcts = pd.DataFrame(\n",
    "    {\n",
    "        \"train\": y_train.idxmax(axis=1).value_counts(normalize=True),\n",
    "        \"eval\": y_eval.idxmax(axis=1).value_counts(normalize=True),\n",
    "    }\n",
    ")\n",
    "print(\"Species percentages by split\")\n",
    "(split_pcts.fillna(0) * 100).astype(int)"
   ]
  },
  {
   "cell_type": "markdown",
   "id": "b0f2c7bd",
   "metadata": {},
   "source": [
    "<font size=\"5\">**4. Build the Model**</font>"
   ]
  },
  {
   "cell_type": "markdown",
   "id": "c9b8c03b",
   "metadata": {},
   "source": [
    "<font size=\"3\">First, we'll create an ImagesDataset class that will define how we access our data and any transformations we might want to apply.\n",
    "\n",
    "This new class will inherit from the PyTorch Dataset class, but we'll also need to define our own __init__, __len__ and __getitem__ special methods:\n",
    "\n",
    "->  __init__ will instantiate the dataset object with two dataframes: an x_train df containing image IDs and image file paths,       and a y_train df containing image IDs and labels. This will run once when we first create the dataset object\n",
    "\n",
    "->  __getitem__ will define how we access a sample from the data. This method gets called whenever we use an indexing operation      like dataset[index]. In this case, whenever accessing a particular image sample ,the following will happen:\n",
    "    \n",
    "           look up the image filepath using the index\n",
    "    \n",
    "           load the image with PIL.Image\n",
    "    \n",
    "           apply some transformations \n",
    "    \n",
    "           return a dictionary containing the image ID, the image itself as a Tensor, and a label \n",
    "    \n",
    "->  __len__ simply returns the size of the dataset, which we do by calling len on the input dataframe.\n",
    "    </font>"
   ]
  },
  {
   "cell_type": "markdown",
   "id": "24a4edea",
   "metadata": {},
   "source": [
    "**Setting up environment**"
   ]
  },
  {
   "cell_type": "code",
   "execution_count": 10,
   "id": "c05d0279",
   "metadata": {},
   "outputs": [
    {
     "name": "stdout",
     "output_type": "stream",
     "text": [
      "^C\n"
     ]
    }
   ],
   "source": [
    "!conda create -n conserviz python=3.8"
   ]
  },
  {
   "cell_type": "code",
   "execution_count": null,
   "id": "0cb59ed4",
   "metadata": {},
   "outputs": [],
   "source": [
    "conda activate conserviz\n",
    "pip install pandas matplotlib Pillow tqdm scikit-learn torch torchvision"
   ]
  },
  {
   "cell_type": "code",
   "execution_count": 11,
   "id": "a399c628",
   "metadata": {},
   "outputs": [],
   "source": [
    "import torch\n",
    "from torch.utils.data import Dataset\n",
    "from torchvision import transforms\n",
    "\n",
    "\n",
    "class ImagesDataset(Dataset):\n",
    "    \"\"\"Reads in an image, transforms pixel values, and serves\n",
    "    a dictionary containing the image id, image tensors, and label.\n",
    "    \"\"\"\n",
    "\n",
    "    def __init__(self, x_df, y_df=None):\n",
    "        self.data = x_df\n",
    "        self.label = y_df\n",
    "        self.transform = transforms.Compose(\n",
    "            [\n",
    "                transforms.Resize((224, 224)),\n",
    "                transforms.ToTensor(),\n",
    "                transforms.Normalize(\n",
    "                    mean=(0.485, 0.456, 0.406), std=(0.229, 0.224, 0.225)\n",
    "                ),\n",
    "            ]\n",
    "        )\n",
    "\n",
    "    def __getitem__(self, index):\n",
    "        image = Image.open(self.data.iloc[index][\"filepath\"]).convert(\"RGB\")\n",
    "        image = self.transform(image)\n",
    "        image_id = self.data.index[index]\n",
    "        if self.label is None:\n",
    "            sample = {\"image_id\": image_id, \"image\": image}\n",
    "        else:\n",
    "            label = torch.tensor(self.label.iloc[index].values, \n",
    "                                 dtype=torch.float)\n",
    "            sample = {\"image_id\": image_id, \"image\": image, \"label\": label}\n",
    "        return sample\n",
    "\n",
    "    def __len__(self):\n",
    "        return len(self.data)"
   ]
  },
  {
   "cell_type": "markdown",
   "id": "54991dd0",
   "metadata": {},
   "source": [
    "<font size=\"3\"> Here we are also defining a set of transformations, which are defined in the __init__ and called in the __getitem__ special methods.</font>\n",
    "    \n",
    "    ->transforms.Resize((224, 224)) ResNet50 was trained on images of size 224x224 so we resize to the same dimensions here.\n",
    "    \n",
    "    ->transforms.ToTensor() converts the image to a tensor. Since we are passing in a PIL Image at this point, PyTorch can             recognize it as an RGB image and will automatically convert the input values which are in the range [0, 255] to a range of       [0, 1].\n",
    "    \n",
    "    ->transforms.Normalize(...) normalizes the image tensors using the mean and standard deviation of ImageNet images."
   ]
  },
  {
   "cell_type": "markdown",
   "id": "12a14cab",
   "metadata": {},
   "source": [
    "<font size=\"3\">**DataLoader**\n",
    "    \n",
    "Next, we need to load the dataset into a dataloader. The DataLoader class lets us iterate through our dataset in batches.</font>"
   ]
  },
  {
   "cell_type": "code",
   "execution_count": 12,
   "id": "ad32b4bb",
   "metadata": {},
   "outputs": [],
   "source": [
    "from torch.utils.data import DataLoader\n",
    "\n",
    "train_dataset = ImagesDataset(x_train, y_train)\n",
    "train_dataloader = DataLoader(train_dataset, batch_size=32)"
   ]
  },
  {
   "cell_type": "code",
   "execution_count": 9,
   "id": "9ec5daf6",
   "metadata": {},
   "outputs": [
    {
     "name": "stdout",
     "output_type": "stream",
     "text": [
      "Requirement already satisfied: matplotlib in c:\\users\\hp\\anaconda3\\lib\\site-packages (from -r requirements.txt (line 3)) (3.3.4)Note: you may need to restart the kernel to use updated packages.\n",
      "Requirement already satisfied: numpy in c:\\users\\hp\\anaconda3\\lib\\site-packages (from -r requirements.txt (line 4)) (1.20.1)\n",
      "Requirement already satisfied: seaborn in c:\\users\\hp\\anaconda3\\lib\\site-packages (from -r requirements.txt (line 5)) (0.11.1)\n",
      "Requirement already satisfied: pandas in c:\\users\\hp\\anaconda3\\lib\\site-packages (from -r requirements.txt (line 6)) (1.2.4)\n",
      "Requirement already satisfied: pillow in c:\\users\\hp\\anaconda3\\lib\\site-packages (from -r requirements.txt (line 7)) (8.2.0)\n",
      "Requirement already satisfied: tqdm in c:\\users\\hp\\anaconda3\\lib\\site-packages (from -r requirements.txt (line 8)) (4.59.0)\n",
      "Requirement already satisfied: sklearn in c:\\users\\hp\\anaconda3\\lib\\site-packages (from -r requirements.txt (line 9)) (0.0)\n",
      "Requirement already satisfied: torch in c:\\users\\hp\\appdata\\roaming\\python\\python38\\site-packages (from -r requirements.txt (line 10)) (1.12.0)\n",
      "Requirement already satisfied: torchvision in c:\\users\\hp\\appdata\\roaming\\python\\python38\\site-packages (from -r requirements.txt (line 11)) (0.13.0)\n",
      "Requirement already satisfied: pyparsing!=2.0.4,!=2.1.2,!=2.1.6,>=2.0.3 in c:\\users\\hp\\anaconda3\\lib\\site-packages (from matplotlib->-r requirements.txt (line 3)) (2.4.7)\n",
      "Requirement already satisfied: kiwisolver>=1.0.1 in c:\\users\\hp\\anaconda3\\lib\\site-packages (from matplotlib->-r requirements.txt (line 3)) (1.3.1)\n",
      "Requirement already satisfied: cycler>=0.10 in c:\\users\\hp\\anaconda3\\lib\\site-packages (from matplotlib->-r requirements.txt (line 3)) (0.10.0)\n",
      "Requirement already satisfied: python-dateutil>=2.1 in c:\\users\\hp\\anaconda3\\lib\\site-packages (from matplotlib->-r requirements.txt (line 3)) (2.8.1)\n",
      "Requirement already satisfied: six in c:\\users\\hp\\anaconda3\\lib\\site-packages (from cycler>=0.10->matplotlib->-r requirements.txt (line 3)) (1.15.0)\n",
      "Requirement already satisfied: pytz>=2017.3 in c:\\users\\hp\\anaconda3\\lib\\site-packages (from pandas->-r requirements.txt (line 6)) (2021.1)\n",
      "Requirement already satisfied: scipy>=1.0 in c:\\users\\hp\\anaconda3\\lib\\site-packages (from seaborn->-r requirements.txt (line 5)) (1.6.2)\n",
      "Requirement already satisfied: scikit-learn in c:\\users\\hp\\anaconda3\\lib\\site-packages (from sklearn->-r requirements.txt (line 9)) (1.0)\n",
      "Requirement already satisfied: typing-extensions in c:\\users\\hp\\anaconda3\\lib\\site-packages (from torch->-r requirements.txt (line 10)) (3.7.4.3)\n",
      "Requirement already satisfied: requests in c:\\users\\hp\\anaconda3\\lib\\site-packages (from torchvision->-r requirements.txt (line 11)) (2.25.1)\n",
      "Requirement already satisfied: chardet<5,>=3.0.2 in c:\\users\\hp\\anaconda3\\lib\\site-packages (from requests->torchvision->-r requirements.txt (line 11)) (4.0.0)\n",
      "Requirement already satisfied: urllib3<1.27,>=1.21.1 in c:\\users\\hp\\anaconda3\\lib\\site-packages (from requests->torchvision->-r requirements.txt (line 11)) (1.26.4)\n",
      "Requirement already satisfied: certifi>=2017.4.17 in c:\\users\\hp\\anaconda3\\lib\\site-packages (from requests->torchvision->-r requirements.txt (line 11)) (2020.12.5)\n",
      "Requirement already satisfied: idna<3,>=2.5 in c:\\users\\hp\\anaconda3\\lib\\site-packages (from requests->torchvision->-r requirements.txt (line 11)) (2.10)\n",
      "Requirement already satisfied: threadpoolctl>=2.0.0 in c:\\users\\hp\\anaconda3\\lib\\site-packages (from scikit-learn->sklearn->-r requirements.txt (line 9)) (2.1.0)\n",
      "Requirement already satisfied: joblib>=0.11 in c:\\users\\hp\\anaconda3\\lib\\site-packages (from scikit-learn->sklearn->-r requirements.txt (line 9)) (1.0.1)\n",
      "\n"
     ]
    }
   ],
   "source": [
    "pip install -r requirements.txt"
   ]
  },
  {
   "cell_type": "markdown",
   "id": "76d2c050",
   "metadata": {},
   "source": [
    "<font size=\"5\">**5. Training**</font>\n",
    "    \n",
    "<font size=\"3\">Now it's time to start building our model and then training it.\n",
    "\n",
    "We'll use a pretrained ResNet50 model as our backbone. ResNets are one of the more popular networks for image classification tasks. The pretrained model outputs a 2048-dimension embedding, which we will then connect to two more dense layers, with a ReLU and Dropout step in between.\n",
    "    </font>"
   ]
  },
  {
   "cell_type": "code",
   "execution_count": 13,
   "id": "28af43da",
   "metadata": {},
   "outputs": [],
   "source": [
    "from torch import nn\n",
    "import torchvision.models as models\n",
    "\n",
    "\n",
    "model = models.resnet50(pretrained=True)\n",
    "model.fc = nn.Sequential(\n",
    "    nn.Linear(2048, 100),  \n",
    "    nn.ReLU(inplace=True),  \n",
    "    nn.Dropout(0.1),  \n",
    "    nn.Linear(\n",
    "        100, 8\n",
    "    ),  \n",
    ")"
   ]
  },
  {
   "cell_type": "markdown",
   "id": "dbadc68a",
   "metadata": {},
   "source": [
    "<font size=\"3\">**Define loss function**\n",
    "\n",
    "Cross entropy loss is a commonly used loss function for multi-class image classification."
   ]
  },
  {
   "cell_type": "code",
   "execution_count": 14,
   "id": "bfaf83a3",
   "metadata": {},
   "outputs": [],
   "source": [
    "import torch.optim as optim\n",
    "\n",
    "criterion = nn.CrossEntropyLoss()\n",
    "optimizer = optim.SGD(model.parameters(), lr=0.001, momentum=0.9)"
   ]
  },
  {
   "cell_type": "markdown",
   "id": "2c689274",
   "metadata": {},
   "source": [
    "<font size=\"3\">**Train the model**"
   ]
  },
  {
   "cell_type": "code",
   "execution_count": 15,
   "id": "de5ee876",
   "metadata": {},
   "outputs": [
    {
     "name": "stdout",
     "output_type": "stream",
     "text": [
      "Starting epoch 1\n"
     ]
    },
    {
     "name": "stderr",
     "output_type": "stream",
     "text": [
      "100%|████████████████████████████████████████████████████████████████████████████████| 194/194 [21:45<00:00,  6.73s/it]\n"
     ]
    }
   ],
   "source": [
    "num_epochs = 1\n",
    "\n",
    "tracking_loss = {}\n",
    "\n",
    "for epoch in range(1, num_epochs + 1):\n",
    "    print(f\"Starting epoch {epoch}\")\n",
    "\n",
    "    \n",
    "    for batch_n, batch in tqdm(\n",
    "        enumerate(train_dataloader), total=len(train_dataloader)\n",
    "    ):\n",
    "\n",
    "        \n",
    "        optimizer.zero_grad()\n",
    "\n",
    "        outputs = model(batch[\"image\"])\n",
    "\n",
    "        #  compute the loss\n",
    "        loss = criterion(outputs, batch[\"label\"])\n",
    "        # let's keep track of the loss by epoch and batch\n",
    "        tracking_loss[(epoch, batch_n)] = float(loss)\n",
    "\n",
    "        loss.backward()\n",
    "        optimizer.step()"
   ]
  },
  {
   "cell_type": "markdown",
   "id": "ff089dce",
   "metadata": {},
   "source": [
    "<font size=\"3\">let's plot the loss by epoch and batch. The x-axis here is a tuple of (epoch, batch).</font>"
   ]
  },
  {
   "cell_type": "code",
   "execution_count": 16,
   "id": "e15dc1d1",
   "metadata": {},
   "outputs": [
    {
     "data": {
      "text/plain": [
       "<matplotlib.legend.Legend at 0x277147aa220>"
      ]
     },
     "execution_count": 16,
     "metadata": {},
     "output_type": "execute_result"
    },
    {
     "data": {
      "image/png": "[encoded data removed]",
      "text/plain": [
       "<Figure size 720x360 with 1 Axes>"
      ]
     },
     "metadata": {
      "needs_background": "light"
     },
     "output_type": "display_data"
    }
   ],
   "source": [
    "tracking_loss = pd.Series(tracking_loss)\n",
    "\n",
    "plt.figure(figsize=(10, 5))\n",
    "tracking_loss.plot(alpha=0.2, label=\"loss\")\n",
    "tracking_loss.rolling(center=True, min_periods=1, window=10).mean().plot(\n",
    "    label=\"loss (moving avg)\"\n",
    ")\n",
    "plt.xlabel(\"(Epoch, Batch)\")\n",
    "plt.ylabel(\"Loss\")\n",
    "plt.legend(loc=0)"
   ]
  },
  {
   "cell_type": "markdown",
   "id": "0fa881b4",
   "metadata": {},
   "source": [
    "<font size=\"3\">The loss is going down!</font> "
   ]
  },
  {
   "cell_type": "markdown",
   "id": "0985f6c0",
   "metadata": {},
   "source": [
    "# **6. Evaluation**"
   ]
  },
  {
   "cell_type": "code",
   "execution_count": 17,
   "id": "f2da3db3",
   "metadata": {},
   "outputs": [],
   "source": [
    "eval_dataset = ImagesDataset(x_eval, y_eval)\n",
    "eval_dataloader = DataLoader(eval_dataset, batch_size=32)"
   ]
  },
  {
   "cell_type": "markdown",
   "id": "620730bb",
   "metadata": {},
   "source": [
    "<font size=\"4\">**Prediction**</font>"
   ]
  },
  {
   "cell_type": "code",
   "execution_count": 18,
   "id": "5fa610b0",
   "metadata": {},
   "outputs": [
    {
     "name": "stderr",
     "output_type": "stream",
     "text": [
      "100%|██████████████████████████████████████████████████████████████████████████████████| 65/65 [02:34<00:00,  2.38s/it]\n"
     ]
    },
    {
     "data": {
      "text/html": [
       "<div>\n",
       "<style scoped>\n",
       "    .dataframe tbody tr th:only-of-type {\n",
       "        vertical-align: middle;\n",
       "    }\n",
       "\n",
       "    .dataframe tbody tr th {\n",
       "        vertical-align: top;\n",
       "    }\n",
       "\n",
       "    .dataframe thead th {\n",
       "        text-align: right;\n",
       "    }\n",
       "</style>\n",
       "<table border=\"1\" class=\"dataframe\">\n",
       "  <thead>\n",
       "    <tr style=\"text-align: right;\">\n",
       "      <th></th>\n",
       "      <th>antelope_duiker</th>\n",
       "      <th>bird</th>\n",
       "      <th>blank</th>\n",
       "      <th>civet_genet</th>\n",
       "      <th>hog</th>\n",
       "      <th>leopard</th>\n",
       "      <th>monkey_prosimian</th>\n",
       "      <th>rodent</th>\n",
       "    </tr>\n",
       "  </thead>\n",
       "  <tbody>\n",
       "    <tr>\n",
       "      <th>ZJ012915</th>\n",
       "      <td>0.148916</td>\n",
       "      <td>0.088575</td>\n",
       "      <td>0.203110</td>\n",
       "      <td>0.012492</td>\n",
       "      <td>0.060617</td>\n",
       "      <td>0.146043</td>\n",
       "      <td>0.263903</td>\n",
       "      <td>0.076344</td>\n",
       "    </tr>\n",
       "    <tr>\n",
       "      <th>ZJ016034</th>\n",
       "      <td>0.169198</td>\n",
       "      <td>0.172712</td>\n",
       "      <td>0.111106</td>\n",
       "      <td>0.003768</td>\n",
       "      <td>0.024079</td>\n",
       "      <td>0.027059</td>\n",
       "      <td>0.458105</td>\n",
       "      <td>0.033972</td>\n",
       "    </tr>\n",
       "    <tr>\n",
       "      <th>ZJ014621</th>\n",
       "      <td>0.176485</td>\n",
       "      <td>0.135707</td>\n",
       "      <td>0.120379</td>\n",
       "      <td>0.004067</td>\n",
       "      <td>0.021517</td>\n",
       "      <td>0.044098</td>\n",
       "      <td>0.454415</td>\n",
       "      <td>0.043331</td>\n",
       "    </tr>\n",
       "    <tr>\n",
       "      <th>ZJ008027</th>\n",
       "      <td>0.189409</td>\n",
       "      <td>0.143649</td>\n",
       "      <td>0.187426</td>\n",
       "      <td>0.008509</td>\n",
       "      <td>0.034638</td>\n",
       "      <td>0.139923</td>\n",
       "      <td>0.249696</td>\n",
       "      <td>0.046750</td>\n",
       "    </tr>\n",
       "    <tr>\n",
       "      <th>ZJ009592</th>\n",
       "      <td>0.032543</td>\n",
       "      <td>0.009745</td>\n",
       "      <td>0.134855</td>\n",
       "      <td>0.031898</td>\n",
       "      <td>0.098814</td>\n",
       "      <td>0.643281</td>\n",
       "      <td>0.011558</td>\n",
       "      <td>0.037306</td>\n",
       "    </tr>\n",
       "    <tr>\n",
       "      <th>...</th>\n",
       "      <td>...</td>\n",
       "      <td>...</td>\n",
       "      <td>...</td>\n",
       "      <td>...</td>\n",
       "      <td>...</td>\n",
       "      <td>...</td>\n",
       "      <td>...</td>\n",
       "      <td>...</td>\n",
       "    </tr>\n",
       "    <tr>\n",
       "      <th>ZJ009639</th>\n",
       "      <td>0.199200</td>\n",
       "      <td>0.140994</td>\n",
       "      <td>0.153460</td>\n",
       "      <td>0.032299</td>\n",
       "      <td>0.065050</td>\n",
       "      <td>0.071191</td>\n",
       "      <td>0.202693</td>\n",
       "      <td>0.135114</td>\n",
       "    </tr>\n",
       "    <tr>\n",
       "      <th>ZJ000223</th>\n",
       "      <td>0.196555</td>\n",
       "      <td>0.135938</td>\n",
       "      <td>0.152198</td>\n",
       "      <td>0.018078</td>\n",
       "      <td>0.061357</td>\n",
       "      <td>0.079961</td>\n",
       "      <td>0.250054</td>\n",
       "      <td>0.105859</td>\n",
       "    </tr>\n",
       "    <tr>\n",
       "      <th>ZJ010408</th>\n",
       "      <td>0.066515</td>\n",
       "      <td>0.014857</td>\n",
       "      <td>0.213894</td>\n",
       "      <td>0.160153</td>\n",
       "      <td>0.078877</td>\n",
       "      <td>0.117694</td>\n",
       "      <td>0.016898</td>\n",
       "      <td>0.331112</td>\n",
       "    </tr>\n",
       "    <tr>\n",
       "      <th>ZJ002593</th>\n",
       "      <td>0.014152</td>\n",
       "      <td>0.001528</td>\n",
       "      <td>0.013647</td>\n",
       "      <td>0.830339</td>\n",
       "      <td>0.012361</td>\n",
       "      <td>0.007726</td>\n",
       "      <td>0.001204</td>\n",
       "      <td>0.119043</td>\n",
       "    </tr>\n",
       "    <tr>\n",
       "      <th>ZJ005840</th>\n",
       "      <td>0.164033</td>\n",
       "      <td>0.126213</td>\n",
       "      <td>0.070960</td>\n",
       "      <td>0.002308</td>\n",
       "      <td>0.015491</td>\n",
       "      <td>0.014962</td>\n",
       "      <td>0.566215</td>\n",
       "      <td>0.039817</td>\n",
       "    </tr>\n",
       "  </tbody>\n",
       "</table>\n",
       "<p>2061 rows × 8 columns</p>\n",
       "</div>"
      ],
      "text/plain": [
       "          antelope_duiker      bird     blank  civet_genet       hog  \\\n",
       "ZJ012915         0.148916  0.088575  0.203110     0.012492  0.060617   \n",
       "ZJ016034         0.169198  0.172712  0.111106     0.003768  0.024079   \n",
       "ZJ014621         0.176485  0.135707  0.120379     0.004067  0.021517   \n",
       "ZJ008027         0.189409  0.143649  0.187426     0.008509  0.034638   \n",
       "ZJ009592         0.032543  0.009745  0.134855     0.031898  0.098814   \n",
       "...                   ...       ...       ...          ...       ...   \n",
       "ZJ009639         0.199200  0.140994  0.153460     0.032299  0.065050   \n",
       "ZJ000223         0.196555  0.135938  0.152198     0.018078  0.061357   \n",
       "ZJ010408         0.066515  0.014857  0.213894     0.160153  0.078877   \n",
       "ZJ002593         0.014152  0.001528  0.013647     0.830339  0.012361   \n",
       "ZJ005840         0.164033  0.126213  0.070960     0.002308  0.015491   \n",
       "\n",
       "           leopard  monkey_prosimian    rodent  \n",
       "ZJ012915  0.146043          0.263903  0.076344  \n",
       "ZJ016034  0.027059          0.458105  0.033972  \n",
       "ZJ014621  0.044098          0.454415  0.043331  \n",
       "ZJ008027  0.139923          0.249696  0.046750  \n",
       "ZJ009592  0.643281          0.011558  0.037306  \n",
       "...            ...               ...       ...  \n",
       "ZJ009639  0.071191          0.202693  0.135114  \n",
       "ZJ000223  0.079961          0.250054  0.105859  \n",
       "ZJ010408  0.117694          0.016898  0.331112  \n",
       "ZJ002593  0.007726          0.001204  0.119043  \n",
       "ZJ005840  0.014962          0.566215  0.039817  \n",
       "\n",
       "[2061 rows x 8 columns]"
      ]
     },
     "execution_count": 18,
     "metadata": {},
     "output_type": "execute_result"
    }
   ],
   "source": [
    "preds_collector = []\n",
    "\n",
    "\n",
    "model.eval()\n",
    "\n",
    "with torch.no_grad():\n",
    "    for batch in tqdm(eval_dataloader, total=len(eval_dataloader)):\n",
    "        logits = model.forward(batch[\"image\"])\n",
    "        preds = nn.functional.softmax(logits, dim=1)\n",
    "        preds_df = pd.DataFrame(\n",
    "            preds.detach().numpy(),\n",
    "            index=batch[\"image_id\"],\n",
    "            columns=species_labels,\n",
    "        )\n",
    "        preds_collector.append(preds_df)\n",
    "\n",
    "eval_preds_df = pd.concat(preds_collector)\n",
    "eval_preds_df"
   ]
  },
  {
   "cell_type": "code",
   "execution_count": 19,
   "id": "7d3036d8",
   "metadata": {},
   "outputs": [
    {
     "name": "stdout",
     "output_type": "stream",
     "text": [
      "True labels (training):\n"
     ]
    },
    {
     "data": {
      "text/plain": [
       "monkey_prosimian    973\n",
       "antelope_duiker     925\n",
       "civet_genet         896\n",
       "blank               860\n",
       "leopard             841\n",
       "rodent              732\n",
       "bird                608\n",
       "hog                 348\n",
       "dtype: int64"
      ]
     },
     "execution_count": 19,
     "metadata": {},
     "output_type": "execute_result"
    }
   ],
   "source": [
    "print(\"True labels (training):\")\n",
    "y_train.idxmax(axis=1).value_counts()"
   ]
  },
  {
   "cell_type": "markdown",
   "id": "b398365c",
   "metadata": {},
   "source": [
    " **The distribution of  predictions on the eval set.**"
   ]
  },
  {
   "cell_type": "code",
   "execution_count": 20,
   "id": "f261ae59",
   "metadata": {},
   "outputs": [
    {
     "name": "stdout",
     "output_type": "stream",
     "text": [
      "Predicted labels (eval):\n"
     ]
    },
    {
     "data": {
      "text/plain": [
       "monkey_prosimian    950\n",
       "rodent              336\n",
       "civet_genet         310\n",
       "leopard             307\n",
       "blank                78\n",
       "antelope_duiker      69\n",
       "bird                 10\n",
       "hog                   1\n",
       "dtype: int64"
      ]
     },
     "execution_count": 20,
     "metadata": {},
     "output_type": "execute_result"
    }
   ],
   "source": [
    "print(\"Predicted labels (eval):\")\n",
    "eval_preds_df.idxmax(axis=1).value_counts()"
   ]
  },
  {
   "cell_type": "markdown",
   "id": "8d0f0048",
   "metadata": {},
   "source": [
    "**The actual evaluation set is more evenly distributed than our predictions**"
   ]
  },
  {
   "cell_type": "code",
   "execution_count": 21,
   "id": "a37f22f1",
   "metadata": {},
   "outputs": [
    {
     "name": "stdout",
     "output_type": "stream",
     "text": [
      "True labels (eval):\n"
     ]
    },
    {
     "data": {
      "text/plain": [
       "monkey_prosimian    325\n",
       "antelope_duiker     308\n",
       "civet_genet         298\n",
       "blank               287\n",
       "leopard             280\n",
       "rodent              244\n",
       "bird                203\n",
       "hog                 116\n",
       "dtype: int64"
      ]
     },
     "execution_count": 21,
     "metadata": {},
     "output_type": "execute_result"
    }
   ],
   "source": [
    "print(\"True labels (eval):\")\n",
    "y_eval.idxmax(axis=1).value_counts()"
   ]
  },
  {
   "cell_type": "markdown",
   "id": "36ce87e9",
   "metadata": {},
   "source": [
    "## **Accuracy**"
   ]
  },
  {
   "cell_type": "code",
   "execution_count": 23,
   "id": "e0f353a4",
   "metadata": {},
   "outputs": [
    {
     "data": {
      "text/plain": [
       "ZJ012915    monkey_prosimian\n",
       "ZJ016034    monkey_prosimian\n",
       "ZJ014621    monkey_prosimian\n",
       "ZJ008027    monkey_prosimian\n",
       "ZJ009592             leopard\n",
       "                  ...       \n",
       "ZJ009639    monkey_prosimian\n",
       "ZJ000223    monkey_prosimian\n",
       "ZJ010408              rodent\n",
       "ZJ002593         civet_genet\n",
       "ZJ005840    monkey_prosimian\n",
       "Length: 2061, dtype: object"
      ]
     },
     "execution_count": 23,
     "metadata": {},
     "output_type": "execute_result"
    }
   ],
   "source": [
    "eval_predictions = eval_preds_df.idxmax(axis=1)\n",
    "eval_predictions"
   ]
  },
  {
   "cell_type": "code",
   "execution_count": 24,
   "id": "7931df89",
   "metadata": {},
   "outputs": [
    {
     "data": {
      "text/plain": [
       "0.1576904415332363"
      ]
     },
     "execution_count": 24,
     "metadata": {},
     "output_type": "execute_result"
    }
   ],
   "source": [
    "eval_true = y_eval.idxmax(axis=1)\n",
    "\n",
    "(eval_true == \"monkey_prosimian\").sum() / len(eval_predictions)"
   ]
  },
  {
   "cell_type": "code",
   "execution_count": 25,
   "id": "57d1c6f7",
   "metadata": {},
   "outputs": [
    {
     "data": {
      "text/plain": [
       "0.4949053857350801"
      ]
     },
     "execution_count": 25,
     "metadata": {},
     "output_type": "execute_result"
    }
   ],
   "source": [
    "correct = (eval_predictions == eval_true).sum()\n",
    "accuracy = correct / len(eval_predictions)\n",
    "accuracy"
   ]
  },
  {
   "cell_type": "code",
   "execution_count": 26,
   "id": "17c23375",
   "metadata": {},
   "outputs": [
    {
     "data": {
      "image/png": "[encoded data removed]",
      "text/plain": [
       "<Figure size 720x720 with 2 Axes>"
      ]
     },
     "metadata": {
      "needs_background": "light"
     },
     "output_type": "display_data"
    }
   ],
   "source": [
    "from sklearn.metrics import ConfusionMatrixDisplay\n",
    "\n",
    "fig, ax = plt.subplots(figsize=(10, 10))\n",
    "cm = ConfusionMatrixDisplay.from_predictions(\n",
    "    y_eval.idxmax(axis=1),\n",
    "    eval_preds_df.idxmax(axis=1),\n",
    "    ax=ax,\n",
    "    xticks_rotation=90,\n",
    "    colorbar=True,\n",
    ")"
   ]
  },
  {
   "cell_type": "markdown",
   "id": "17cd6a67",
   "metadata": {},
   "source": [
    "## **RESULT**"
   ]
  },
  {
   "cell_type": "markdown",
   "id": "71bd3e5b",
   "metadata": {},
   "source": [
    "<font size=\"3\">**1. Our accuracy on the evaluation set is about 50%, which is not a bad start for a very simple first pass and one epoch of training.**</font>"
   ]
  },
  {
   "cell_type": "markdown",
   "id": "659e8a0b",
   "metadata": {},
   "source": [
    "<font size=\"3\">**2.We can see from the confusion matrix below that our model does reasonably well on some species, but we have plenty of room for improvement on antelopes, birds, hogs and blanks.**</font>"
   ]
  },
  {
   "cell_type": "markdown",
   "id": "8a2a1a4e",
   "metadata": {},
   "source": [
    "\n",
    "\n",
    "\n",
    "\n",
    "\n",
    "\n",
    "\n",
    "\n",
    "# CONCLUSION"
   ]
  },
  {
   "cell_type": "markdown",
   "id": "c4a21971",
   "metadata": {},
   "source": [
    "* <font size=\"3\">**Train on the full training dataset. We've only used 50% of the training data so far.**\n",
    "* **Train for more epochs. We've only done 1 so far.**\n",
    "* **We can also try another pretrained model like  with EfficientNet, or another ResNet model with more layers like ResNet152,we     may get better accuracy.**</font>"
   ]
  }
 ],
 "metadata": {
  "kernelspec": {
   "display_name": "Python 3",
   "language": "python",
   "name": "python3"
  },
  "language_info": {
   "codemirror_mode": {
    "name": "ipython",
    "version": 3
   },
   "file_extension": ".py",
   "mimetype": "text/x-python",
   "name": "python",
   "nbconvert_exporter": "python",
   "pygments_lexer": "ipython3",
   "version": "3.8.8"
  }
 },
 "nbformat": 4,
 "nbformat_minor": 5
}
